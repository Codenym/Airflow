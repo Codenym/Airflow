import requests
import pandas as pd





votes = []
vote_transaction = []
reps = []
vote_cat = defaultdict(list)
vote_keys = [ 
    'bill_number','bill_type',
    'amendment_author','amendment_number','amendment_type',
    'category','chamber','congress','date','number','question','requires','result','result_text',
    'session','source_url','subject','type','updated_at','vote_id']
for file in Path("data").glob("**/*.json"):
    with open(file) as f:
        data = json.load(f)

    try:
        data['bill_number'] = data['bill']['number']
        data['bill_type'] = data['bill']['type']
    except: 
        data['bill_number'] = None
        data['bill_type'] = None

    try:
        data['amendment_author'] = data['amendment']['author']
        data['amendment_number'] = data['amendment']['number']
        data['amendment_type'] = data['amendment']['type']
        
    except:
        data['amendment_author'] = None
        data['amendment_number'] = None
        data['amendment_type'] = None 
    
    vote_cat[data['category']].append(data)
    vote = {}
    for key in vote_keys:
        vote[key]=data.get(key, None)
    votes.append(vote)

    rs=[(vote,key) for key in data["votes"].keys() for vote in data["votes"][key]]
    vote = {}
    for (v,key) in rs:
        vote['voter_id'] = v['id']
        vote['vote'] = key
        vote['vote_id'] = data['vote_id']
        vote_transaction.append(vote)

    rep=[vote for key in data["votes"].keys() for vote in data["votes"][key]]
    reps = reps + rep
