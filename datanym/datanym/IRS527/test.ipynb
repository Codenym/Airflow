{
 "cells": [
  {
   "cell_type": "code",
   "execution_count": 4,
   "id": "23da4185e433d3fa",
   "metadata": {
    "collapsed": true,
    "ExecuteTime": {
     "end_time": "2023-11-06T22:06:29.135929Z",
     "start_time": "2023-11-06T22:06:28.656959Z"
    }
   },
   "outputs": [],
   "source": [
    "# System Libs\n",
    "import csv\n",
    "from collections import defaultdict\n",
    "from datetime import datetime\n",
    "import io\n",
    "from pathlib import Path\n",
    "import pandas as pd\n",
    "from core import (extract_file_from_zip,\n",
    "                   download_file,\n",
    "                   clean_extraction_directory)\n",
    "\n",
    "from dagster import asset\n"
   ]
  },
  {
   "cell_type": "code",
   "execution_count": 5,
   "outputs": [],
   "source": [
    "\n",
    "@asset\n",
    "def raw_527_data():\n",
    "    \"\"\"\n",
    "    Downloads the IRS 527 data zip file, extracts it, and prepares the data for processing.\n",
    "    \"\"\"\n",
    "\n",
    "    url = 'http://forms.irs.gov/app/pod/dataDownload/fullData'\n",
    "    base_dir = Path(\"output_data/irs_527\")\n",
    "\n",
    "    zip_path = (base_dir / 'data.zip')\n",
    "    extract_path = (base_dir / 'unzipped/')\n",
    "    final_path = (base_dir / 'raw_FullDataFile.txt')\n",
    "\n",
    "    download_file(url, zip_path)\n",
    "    extract_file_from_zip(zip_path, extract_path)\n",
    "    clean_extraction_directory(zip_path, extract_path, final_path)\n",
    "\n",
    "    return str(final_path)\n"
   ],
   "metadata": {
    "collapsed": false,
    "ExecuteTime": {
     "end_time": "2023-11-06T22:06:29.145862Z",
     "start_time": "2023-11-06T22:06:29.137864Z"
    }
   },
   "id": "a1d8e8b52c844cb3"
  },
  {
   "cell_type": "code",
   "execution_count": 6,
   "outputs": [],
   "source": [
    "\n",
    "@asset\n",
    "def data_dictionary():\n",
    "    \"\"\"\n",
    "    Load mapping data needed for processing 527 data from an Excel file and build mappings for each record type.\n",
    "\n",
    "    Returns:\n",
    "    - dict: A dictionary containing mappings for each record type.\n",
    "    \"\"\"\n",
    "    # mappings_path = Path(\"input_data/IRS527/mappings.xlsx\")\n",
    "    mappings_path = Path(\"../../input_data/IRS527/mappings.xlsx\")\n",
    "    record_types = [\"1\", \"D\", \"R\", \"E\", \"2\", \"A\", \"B\"]\n",
    "\n",
    "    # Load all mappings from the Excel file into a dictionary\n",
    "    mappings = {r: pd.read_excel(mappings_path, sheet_name=r) for r in record_types}\n",
    "\n",
    "    # Build a mapping dictionary for each record type\n",
    "    combined_mappings = {}\n",
    "    for record_type, df in mappings.items():\n",
    "        # Check if required columns are present\n",
    "        required_columns = ['position', 'model_name', 'field_type']\n",
    "        if not all(col in df.columns for col in required_columns):\n",
    "            raise ValueError(f\"Missing one of the required columns in record type {record_type}: {required_columns}\")\n",
    "\n",
    "        # Build the mapping for the current record type\n",
    "        mapping = {row['position']: (row['model_name'], row['field_type']) for _, row in df.iterrows()}\n",
    "        combined_mappings[record_type] = mapping\n",
    "\n",
    "    return combined_mappings\n",
    "\n"
   ],
   "metadata": {
    "collapsed": false,
    "ExecuteTime": {
     "end_time": "2023-11-06T22:06:29.151456Z",
     "start_time": "2023-11-06T22:06:29.147927Z"
    }
   },
   "id": "6f661274bd5e8867"
  },
  {
   "cell_type": "code",
   "execution_count": 82,
   "outputs": [],
   "source": [
    "def clean_cell(cell, cell_type):\n",
    "    \"\"\"\n",
    "    Cleans and converts a cell to the correct type based on cell_type.\n",
    "    \"\"\"\n",
    "    null_terms = ['N/A', 'NOT APPLICABLE', 'NA', 'NONE', 'NOT APPLICABE', 'NOT APLICABLE', 'N A', 'N-A']\n",
    "\n",
    "    if cell_type == 'D':\n",
    "        # try:\n",
    "        return datetime.strptime(cell, '%Y-%m-%d %H:%M:%S')\n",
    "        # except:\n",
    "        #     return datetime.strptime(cell, '%Y%m%d')\n",
    "    elif cell_type == 'I':\n",
    "        return int(cell)\n",
    "    elif cell_type == 'N':\n",
    "        return float(cell)\n",
    "    else:\n",
    "        cell = cell.upper()\n",
    "        if len(cell) > 50:\n",
    "            cell = cell[0:50]\n",
    "        if cell in null_terms: cell = None\n",
    "    return cell\n",
    "\n"
   ],
   "metadata": {
    "collapsed": false,
    "ExecuteTime": {
     "end_time": "2023-11-06T23:04:57.592270Z",
     "start_time": "2023-11-06T23:04:57.589063Z"
    }
   },
   "id": "4eb5b8eb874573de"
  },
  {
   "cell_type": "code",
   "execution_count": 57,
   "outputs": [],
   "source": [
    "\n",
    "def parse_row(row, mapping):\n",
    "    \"\"\"\n",
    "    Parses a single row into a dictionary based on the provided mapping.\n",
    "    \"\"\"\n",
    "    parsed_row = {}\n",
    "    for i, cell in enumerate(row):\n",
    "        try:\n",
    "            parsed_cell = clean_cell(cell, mapping[i][1])\n",
    "            parsed_row[mapping[i][0]] = parsed_cell\n",
    "        except KeyError as e:\n",
    "            if cell != '':\n",
    "                raise KeyError(f\"Unknown field position in row {row}: {i}\")\n",
    "        except Exception as e:\n",
    "            print(row)\n",
    "            raise e\n",
    "    return parsed_row\n"
   ],
   "metadata": {
    "collapsed": false,
    "ExecuteTime": {
     "end_time": "2023-11-06T22:36:49.863716Z",
     "start_time": "2023-11-06T22:36:49.858370Z"
    }
   },
   "id": "9ce3b58cf02263d7"
  },
  {
   "cell_type": "code",
   "execution_count": 58,
   "outputs": [],
   "source": [
    "\n",
    "def process_row(row_number, row, mappings, records):\n",
    "    \"\"\"\n",
    "    Processes a single row and adds it to the records dictionary.\n",
    "    \"\"\"\n",
    "    form_type = str(row[0])\n",
    "    \n",
    "    if form_type in ('H', 'F'):\n",
    "        print(row)\n",
    "    else:\n",
    "        parsed_row = parse_row(row, mappings[form_type])\n",
    "        records[form_type].append(parsed_row)\n",
    "\n"
   ],
   "metadata": {
    "collapsed": false,
    "ExecuteTime": {
     "end_time": "2023-11-06T22:36:50.165680Z",
     "start_time": "2023-11-06T22:36:50.157302Z"
    }
   },
   "id": "3525139bd07a2e15"
  },
  {
   "cell_type": "code",
   "execution_count": 58,
   "outputs": [],
   "source": [],
   "metadata": {
    "collapsed": false,
    "ExecuteTime": {
     "end_time": "2023-11-06T22:36:50.317879Z",
     "start_time": "2023-11-06T22:36:50.314167Z"
    }
   },
   "id": "5b5678842910fc72"
  },
  {
   "cell_type": "code",
   "execution_count": 83,
   "outputs": [],
   "source": [
    "def fix_malformed(line):\n",
    "    malformed = (\n",
    "        ('|\"I Factor|', '|\"I Factor\"|'),\n",
    "        ('''|\"N/A'|''','''|\"N/A\"|'''),\n",
    "        ('''|\"522 Highland Avenue |''','''|\"522 Highland Avenue\"|'''),\n",
    "        ('''|\"AV-TECH INDUSTRIES|''','''|\"AV-TECH INDUSTRIES\"|'''),\n",
    "        ('''|\"c/o Moxie Innovative|''','''|\"c/o Moxie Innovative\"|''')\n",
    "        )\n",
    "    \n",
    "    for m in malformed:\n",
    "        if line.count(m[0])>0:\n",
    "            line = line.replace(m[0], m[1])\n",
    "\n",
    "    return line"
   ],
   "metadata": {
    "collapsed": false,
    "ExecuteTime": {
     "end_time": "2023-11-06T23:05:00.878723Z",
     "start_time": "2023-11-06T23:05:00.875946Z"
    }
   },
   "id": "a7626ce53ad05790"
  },
  {
   "cell_type": "code",
   "execution_count": 84,
   "outputs": [],
   "source": [
    "def clean_527_data(raw_527_data: str, data_dictionary: dict):\n",
    "    \"\"\"\n",
    "    Processes the file at final_path using the provided mappings for each form type.\n",
    "    \"\"\"\n",
    "    records = defaultdict(list)\n",
    "    with io.open(raw_527_data, 'r', encoding='ISO-8859-1') as raw_file:\n",
    "        reader = csv.reader(map(fix_malformed, raw_file), delimiter='|')\n",
    "        for i, row in enumerate(reader):\n",
    "            if len(row) == 0:\n",
    "                continue\n",
    "            if row[0] in data_dictionary.keys():\n",
    "                process_row(i, previous_row, data_dictionary, records)\n",
    "                previous_row = row\n",
    "            elif row[0] in ('H','F'):\n",
    "                previous_row = row\n",
    "            else:\n",
    "                previous_row = previous_row[:-1] + [previous_row[-1] + row[0]] + row[1:]\n",
    "\n",
    "        return records\n"
   ],
   "metadata": {
    "collapsed": false,
    "ExecuteTime": {
     "end_time": "2023-11-06T23:05:01.394159Z",
     "start_time": "2023-11-06T23:05:01.391554Z"
    }
   },
   "id": "initial_id"
  },
  {
   "cell_type": "markdown",
   "source": [],
   "metadata": {
    "collapsed": false
   },
   "id": "6df4e290284bc552"
  },
  {
   "cell_type": "code",
   "execution_count": null,
   "outputs": [],
   "source": [],
   "metadata": {
    "collapsed": false
   },
   "id": "d052808637388ab3"
  },
  {
   "cell_type": "code",
   "execution_count": 85,
   "outputs": [
    {
     "name": "stdout",
     "output_type": "stream",
     "text": [
      "['H', '20231104', '0316', 'F', '']\n"
     ]
    },
    {
     "ename": "KeyboardInterrupt",
     "evalue": "",
     "output_type": "error",
     "traceback": [
      "\u001B[0;31m---------------------------------------------------------------------------\u001B[0m",
      "\u001B[0;31mKeyboardInterrupt\u001B[0m                         Traceback (most recent call last)",
      "Cell \u001B[0;32mIn[85], line 1\u001B[0m\n\u001B[0;32m----> 1\u001B[0m _ \u001B[38;5;241m=\u001B[39m \u001B[43mclean_527_data\u001B[49m\u001B[43m(\u001B[49m\u001B[43mraw_fpath\u001B[49m\u001B[43m,\u001B[49m\u001B[43m \u001B[49m\u001B[43mdata_mappings\u001B[49m\u001B[43m)\u001B[49m\n",
      "Cell \u001B[0;32mIn[84], line 12\u001B[0m, in \u001B[0;36mclean_527_data\u001B[0;34m(raw_527_data, data_dictionary)\u001B[0m\n\u001B[1;32m     10\u001B[0m     \u001B[38;5;28;01mcontinue\u001B[39;00m\n\u001B[1;32m     11\u001B[0m \u001B[38;5;28;01mif\u001B[39;00m row[\u001B[38;5;241m0\u001B[39m] \u001B[38;5;129;01min\u001B[39;00m data_dictionary\u001B[38;5;241m.\u001B[39mkeys():\n\u001B[0;32m---> 12\u001B[0m     \u001B[43mprocess_row\u001B[49m\u001B[43m(\u001B[49m\u001B[43mi\u001B[49m\u001B[43m,\u001B[49m\u001B[43m \u001B[49m\u001B[43mprevious_row\u001B[49m\u001B[43m,\u001B[49m\u001B[43m \u001B[49m\u001B[43mdata_dictionary\u001B[49m\u001B[43m,\u001B[49m\u001B[43m \u001B[49m\u001B[43mrecords\u001B[49m\u001B[43m)\u001B[49m\n\u001B[1;32m     13\u001B[0m     previous_row \u001B[38;5;241m=\u001B[39m row\n\u001B[1;32m     14\u001B[0m \u001B[38;5;28;01melif\u001B[39;00m row[\u001B[38;5;241m0\u001B[39m] \u001B[38;5;129;01min\u001B[39;00m (\u001B[38;5;124m'\u001B[39m\u001B[38;5;124mH\u001B[39m\u001B[38;5;124m'\u001B[39m,\u001B[38;5;124m'\u001B[39m\u001B[38;5;124mF\u001B[39m\u001B[38;5;124m'\u001B[39m):\n",
      "Cell \u001B[0;32mIn[58], line 11\u001B[0m, in \u001B[0;36mprocess_row\u001B[0;34m(row_number, row, mappings, records)\u001B[0m\n\u001B[1;32m      9\u001B[0m \u001B[38;5;28;01melse\u001B[39;00m:\n\u001B[1;32m     10\u001B[0m     \u001B[38;5;28;01mtry\u001B[39;00m:\n\u001B[0;32m---> 11\u001B[0m         parsed_row \u001B[38;5;241m=\u001B[39m \u001B[43mparse_row\u001B[49m\u001B[43m(\u001B[49m\u001B[43mrow\u001B[49m\u001B[43m,\u001B[49m\u001B[43m \u001B[49m\u001B[43mmappings\u001B[49m\u001B[43m[\u001B[49m\u001B[43mform_type\u001B[49m\u001B[43m]\u001B[49m\u001B[43m)\u001B[49m\n\u001B[1;32m     12\u001B[0m         records[form_type]\u001B[38;5;241m.\u001B[39mappend(parsed_row)\n\u001B[1;32m     14\u001B[0m     \u001B[38;5;28;01mexcept\u001B[39;00m \u001B[38;5;167;01mIndexError\u001B[39;00m:\n",
      "Cell \u001B[0;32mIn[57], line 8\u001B[0m, in \u001B[0;36mparse_row\u001B[0;34m(row, mapping)\u001B[0m\n\u001B[1;32m      6\u001B[0m \u001B[38;5;28;01mfor\u001B[39;00m i, cell \u001B[38;5;129;01min\u001B[39;00m \u001B[38;5;28menumerate\u001B[39m(row):\n\u001B[1;32m      7\u001B[0m     \u001B[38;5;28;01mtry\u001B[39;00m:\n\u001B[0;32m----> 8\u001B[0m         parsed_cell \u001B[38;5;241m=\u001B[39m \u001B[43mclean_cell\u001B[49m\u001B[43m(\u001B[49m\u001B[43mcell\u001B[49m\u001B[43m,\u001B[49m\u001B[43m \u001B[49m\u001B[43mmapping\u001B[49m\u001B[43m[\u001B[49m\u001B[43mi\u001B[49m\u001B[43m]\u001B[49m\u001B[43m[\u001B[49m\u001B[38;5;241;43m1\u001B[39;49m\u001B[43m]\u001B[49m\u001B[43m)\u001B[49m\n\u001B[1;32m      9\u001B[0m         parsed_row[mapping[i][\u001B[38;5;241m0\u001B[39m]] \u001B[38;5;241m=\u001B[39m parsed_cell\n\u001B[1;32m     10\u001B[0m     \u001B[38;5;28;01mexcept\u001B[39;00m \u001B[38;5;167;01mKeyError\u001B[39;00m \u001B[38;5;28;01mas\u001B[39;00m e:\n",
      "\u001B[0;31mKeyboardInterrupt\u001B[0m: "
     ]
    }
   ],
   "source": [
    "_ = clean_527_data(raw_fpath, data_mappings)"
   ],
   "metadata": {
    "collapsed": false,
    "ExecuteTime": {
     "end_time": "2023-11-06T23:06:51.373690Z",
     "start_time": "2023-11-06T23:05:02.504953Z"
    }
   },
   "id": "79a9fcfb95af6c0d"
  },
  {
   "cell_type": "code",
   "execution_count": 86,
   "outputs": [
    {
     "ename": "ValueError",
     "evalue": "time data '20230512' does not match format '%Y-%m-%d %H:%M:%S'",
     "output_type": "error",
     "traceback": [
      "\u001B[0;31m---------------------------------------------------------------------------\u001B[0m",
      "\u001B[0;31mValueError\u001B[0m                                Traceback (most recent call last)",
      "Cell \u001B[0;32mIn[86], line 1\u001B[0m\n\u001B[0;32m----> 1\u001B[0m \u001B[43mdatetime\u001B[49m\u001B[38;5;241;43m.\u001B[39;49m\u001B[43mstrptime\u001B[49m\u001B[43m(\u001B[49m\u001B[38;5;124;43m'\u001B[39;49m\u001B[38;5;124;43m20230512\u001B[39;49m\u001B[38;5;124;43m'\u001B[39;49m\u001B[43m,\u001B[49m\u001B[43m \u001B[49m\u001B[38;5;124;43m'\u001B[39;49m\u001B[38;5;124;43m%\u001B[39;49m\u001B[38;5;124;43mY-\u001B[39;49m\u001B[38;5;124;43m%\u001B[39;49m\u001B[38;5;124;43mm-\u001B[39;49m\u001B[38;5;132;43;01m%d\u001B[39;49;00m\u001B[38;5;124;43m \u001B[39;49m\u001B[38;5;124;43m%\u001B[39;49m\u001B[38;5;124;43mH:\u001B[39;49m\u001B[38;5;124;43m%\u001B[39;49m\u001B[38;5;124;43mM:\u001B[39;49m\u001B[38;5;124;43m%\u001B[39;49m\u001B[38;5;124;43mS\u001B[39;49m\u001B[38;5;124;43m'\u001B[39;49m\u001B[43m)\u001B[49m\n",
      "File \u001B[0;32m/Library/Developer/CommandLineTools/Library/Frameworks/Python3.framework/Versions/3.9/lib/python3.9/_strptime.py:568\u001B[0m, in \u001B[0;36m_strptime_datetime\u001B[0;34m(cls, data_string, format)\u001B[0m\n\u001B[1;32m    565\u001B[0m \u001B[38;5;28;01mdef\u001B[39;00m \u001B[38;5;21m_strptime_datetime\u001B[39m(\u001B[38;5;28mcls\u001B[39m, data_string, \u001B[38;5;28mformat\u001B[39m\u001B[38;5;241m=\u001B[39m\u001B[38;5;124m\"\u001B[39m\u001B[38;5;132;01m%a\u001B[39;00m\u001B[38;5;124m \u001B[39m\u001B[38;5;124m%\u001B[39m\u001B[38;5;124mb \u001B[39m\u001B[38;5;132;01m%d\u001B[39;00m\u001B[38;5;124m \u001B[39m\u001B[38;5;124m%\u001B[39m\u001B[38;5;124mH:\u001B[39m\u001B[38;5;124m%\u001B[39m\u001B[38;5;124mM:\u001B[39m\u001B[38;5;124m%\u001B[39m\u001B[38;5;124mS \u001B[39m\u001B[38;5;124m%\u001B[39m\u001B[38;5;124mY\u001B[39m\u001B[38;5;124m\"\u001B[39m):\n\u001B[1;32m    566\u001B[0m \u001B[38;5;250m    \u001B[39m\u001B[38;5;124;03m\"\"\"Return a class cls instance based on the input string and the\u001B[39;00m\n\u001B[1;32m    567\u001B[0m \u001B[38;5;124;03m    format string.\"\"\"\u001B[39;00m\n\u001B[0;32m--> 568\u001B[0m     tt, fraction, gmtoff_fraction \u001B[38;5;241m=\u001B[39m \u001B[43m_strptime\u001B[49m\u001B[43m(\u001B[49m\u001B[43mdata_string\u001B[49m\u001B[43m,\u001B[49m\u001B[43m \u001B[49m\u001B[38;5;28;43mformat\u001B[39;49m\u001B[43m)\u001B[49m\n\u001B[1;32m    569\u001B[0m     tzname, gmtoff \u001B[38;5;241m=\u001B[39m tt[\u001B[38;5;241m-\u001B[39m\u001B[38;5;241m2\u001B[39m:]\n\u001B[1;32m    570\u001B[0m     args \u001B[38;5;241m=\u001B[39m tt[:\u001B[38;5;241m6\u001B[39m] \u001B[38;5;241m+\u001B[39m (fraction,)\n",
      "File \u001B[0;32m/Library/Developer/CommandLineTools/Library/Frameworks/Python3.framework/Versions/3.9/lib/python3.9/_strptime.py:349\u001B[0m, in \u001B[0;36m_strptime\u001B[0;34m(data_string, format)\u001B[0m\n\u001B[1;32m    347\u001B[0m found \u001B[38;5;241m=\u001B[39m format_regex\u001B[38;5;241m.\u001B[39mmatch(data_string)\n\u001B[1;32m    348\u001B[0m \u001B[38;5;28;01mif\u001B[39;00m \u001B[38;5;129;01mnot\u001B[39;00m found:\n\u001B[0;32m--> 349\u001B[0m     \u001B[38;5;28;01mraise\u001B[39;00m \u001B[38;5;167;01mValueError\u001B[39;00m(\u001B[38;5;124m\"\u001B[39m\u001B[38;5;124mtime data \u001B[39m\u001B[38;5;132;01m%r\u001B[39;00m\u001B[38;5;124m does not match format \u001B[39m\u001B[38;5;132;01m%r\u001B[39;00m\u001B[38;5;124m\"\u001B[39m \u001B[38;5;241m%\u001B[39m\n\u001B[1;32m    350\u001B[0m                      (data_string, \u001B[38;5;28mformat\u001B[39m))\n\u001B[1;32m    351\u001B[0m \u001B[38;5;28;01mif\u001B[39;00m \u001B[38;5;28mlen\u001B[39m(data_string) \u001B[38;5;241m!=\u001B[39m found\u001B[38;5;241m.\u001B[39mend():\n\u001B[1;32m    352\u001B[0m     \u001B[38;5;28;01mraise\u001B[39;00m \u001B[38;5;167;01mValueError\u001B[39;00m(\u001B[38;5;124m\"\u001B[39m\u001B[38;5;124munconverted data remains: \u001B[39m\u001B[38;5;132;01m%s\u001B[39;00m\u001B[38;5;124m\"\u001B[39m \u001B[38;5;241m%\u001B[39m\n\u001B[1;32m    353\u001B[0m                       data_string[found\u001B[38;5;241m.\u001B[39mend():])\n",
      "\u001B[0;31mValueError\u001B[0m: time data '20230512' does not match format '%Y-%m-%d %H:%M:%S'"
     ]
    }
   ],
   "source": [
    "datetime.strptime('20230512', '%Y-%m-%d %H:%M:%S')"
   ],
   "metadata": {
    "collapsed": false,
    "ExecuteTime": {
     "end_time": "2023-11-06T23:06:52.837378Z",
     "start_time": "2023-11-06T23:06:52.803987Z"
    }
   },
   "id": "851b17e9868129ca"
  },
  {
   "cell_type": "code",
   "execution_count": 12,
   "outputs": [],
   "source": [
    "raw_fpath = raw_527_data()"
   ],
   "metadata": {
    "collapsed": false,
    "ExecuteTime": {
     "start_time": "2023-11-06T22:06:29.170435Z"
    }
   },
   "id": "d424b3a1a6088e89"
  },
  {
   "cell_type": "code",
   "execution_count": 13,
   "outputs": [],
   "source": [
    "data_mappings = data_dictionary()"
   ],
   "metadata": {
    "collapsed": false,
    "ExecuteTime": {
     "start_time": "2023-11-06T22:07:22.066865Z"
    }
   },
   "id": "fa60540f32ce95d3"
  },
  {
   "cell_type": "code",
   "execution_count": 55,
   "outputs": [
    {
     "data": {
      "text/plain": "datetime.datetime(2013, 3, 6, 0, 0)"
     },
     "execution_count": 55,
     "metadata": {},
     "output_type": "execute_result"
    }
   ],
   "source": [
    "dte = '20130306'\n",
    "# parse dte into datetime tiype\n",
    "datetime.strptime('20130306', '%Y%m%d')"
   ],
   "metadata": {
    "collapsed": false,
    "ExecuteTime": {
     "end_time": "2023-11-06T22:36:33.542015Z",
     "start_time": "2023-11-06T22:36:33.537075Z"
    }
   },
   "id": "243550fe32a5ae6c"
  },
  {
   "cell_type": "code",
   "execution_count": 67,
   "outputs": [],
   "source": [
    "row = ['1', '8871', '9616076', '1', '0', '0', '462200647', 'Committee to Elect Joseph Estes For Palmdale Water District ', '36055 43rd St East', '', 'Palmdale', 'CA', '93552', '6235', 'jestesforpwd@gmail.com', '20130306', 'Elsie Estes', '36055 43rd St East', '', 'Palmdale', 'CA', '93552', '6235', 'Elsie Estes', '36055 43rd St East', '', 'Palmdale', 'CA', '93552', '6235', '36055 43rd St East', '', 'Palmdale', 'CA', '93552', '6235', '1', 'CA', '1', 'Candidate Running For Palmdale Water District. ', 'Accepting Campaign and Making Campaign Contributions.', '20130306', '2013-03-06 16:32:00', '1', '1']"
   ],
   "metadata": {
    "collapsed": false,
    "ExecuteTime": {
     "end_time": "2023-11-06T22:41:53.353425Z",
     "start_time": "2023-11-06T22:41:53.352419Z"
    }
   },
   "id": "79463e09301b9dfe"
  },
  {
   "cell_type": "code",
   "execution_count": 70,
   "outputs": [
    {
     "data": {
      "text/plain": "['18871']"
     },
     "execution_count": 70,
     "metadata": {},
     "output_type": "execute_result"
    }
   ],
   "source": [
    "[row[-1] + row[1]]"
   ],
   "metadata": {
    "collapsed": false,
    "ExecuteTime": {
     "end_time": "2023-11-06T22:42:33.253435Z",
     "start_time": "2023-11-06T22:42:33.247709Z"
    }
   },
   "id": "c249129193da9bb"
  },
  {
   "cell_type": "code",
   "execution_count": 66,
   "outputs": [
    {
     "name": "stdout",
     "output_type": "stream",
     "text": [
      "(('record_type', 'N'), '1')\n",
      "(('form_type', 'N'), '8871')\n",
      "(('form_id_number', 'N'), '9616076')\n",
      "(('initial_report_indicator', 'N'), '1')\n",
      "(('amended_report_indicator', 'N'), '0')\n",
      "(('final_report_indicator', 'N'), '0')\n",
      "(('ein', 'C'), '462200647')\n",
      "(('organization_name', 'C'), 'Committee to Elect Joseph Estes For Palmdale Water District ')\n",
      "(('mailing_address_1', 'C'), '36055 43rd St East')\n",
      "(('mailing_address_2', 'C'), '')\n",
      "(('mailing_address_city', 'C'), 'Palmdale')\n",
      "(('mailing_address_state', 'C'), 'CA')\n",
      "(('mailing_address_zip_code', 'C'), '93552')\n",
      "(('mailing_address_zip_ext', 'C'), '6235')\n",
      "(('e_mail_address', 'C'), 'jestesforpwd@gmail.com')\n",
      "(('established_date', 'C'), '20130306')\n",
      "(('custodian_name', 'C'), 'Elsie Estes')\n",
      "(('custodian_address_1', 'C'), '36055 43rd St East')\n",
      "(('custodian_address_2', 'C'), '')\n",
      "(('custodian_address_city', 'C'), 'Palmdale')\n",
      "(('custodian_address_state', 'C'), 'CA')\n",
      "(('custodian_address_zip_code', 'C'), '93552')\n",
      "(('custodian_address_zip_ext', 'C'), '6235')\n",
      "(('contact_person_name', 'C'), 'Elsie Estes')\n",
      "(('contact_address_1', 'C'), '36055 43rd St East')\n",
      "(('contact_address_2', 'C'), '')\n",
      "(('contact_address_city', 'C'), 'Palmdale')\n",
      "(('contact_address_state', 'C'), 'CA')\n",
      "(('contact_address_zip_code', 'C'), '93552')\n",
      "(('contact_address_zip_ext', 'C'), '6235')\n",
      "(('business_address_1', 'C'), '36055 43rd St East')\n",
      "(('business_address_2', 'C'), '')\n",
      "(('business_address_city', 'C'), 'Palmdale')\n",
      "(('business_address_state', 'C'), 'CA')\n",
      "(('business_address_zip_code', 'C'), '93552')\n",
      "(('business_address_zip_ext', 'C'), '6235')\n",
      "(('exempt_8872_indicator', 'C'), '1')\n",
      "(('exempt_state', 'C'), 'CA')\n",
      "(('exempt_990_indicator', 'C'), '1')\n",
      "(('purpose', 'C'), 'Candidate Running For Palmdale Water District. ')\n",
      "(('material_change_date', 'C'), 'Accepting Campaign and Making Campaign Contributions.')\n",
      "(('insert_datetime', 'D'), '20130306')\n",
      "(('related_entity_bypass', 'C'), '2013-03-06 16:32:00')\n",
      "(('eain_bypass', 'C'), '1')\n"
     ]
    }
   ],
   "source": [
    "for v,c in zip(row,data_mappings['1'].values()):\n",
    "    print((c,v))"
   ],
   "metadata": {
    "collapsed": false,
    "ExecuteTime": {
     "end_time": "2023-11-06T22:38:29.442518Z",
     "start_time": "2023-11-06T22:38:29.437242Z"
    }
   },
   "id": "fcdcaf92dba88360"
  },
  {
   "cell_type": "code",
   "execution_count": null,
   "outputs": [],
   "source": [],
   "metadata": {
    "collapsed": false
   },
   "id": "b0cd407edcea195"
  }
 ],
 "metadata": {
  "kernelspec": {
   "display_name": "Python 3",
   "language": "python",
   "name": "python3"
  },
  "language_info": {
   "codemirror_mode": {
    "name": "ipython",
    "version": 2
   },
   "file_extension": ".py",
   "mimetype": "text/x-python",
   "name": "python",
   "nbconvert_exporter": "python",
   "pygments_lexer": "ipython2",
   "version": "2.7.6"
  }
 },
 "nbformat": 4,
 "nbformat_minor": 5
}
