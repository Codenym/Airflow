{
 "cells": [
  {
   "cell_type": "code",
   "execution_count": 54,
   "id": "a32d9e4e-5a34-4a30-81a8-fc5b8e18bcc7",
   "metadata": {},
   "outputs": [],
   "source": [
    "from copy import deepcopy\n",
    "import yaml\n",
    "from pathlib import Path\n",
    "import json\n"
   ]
  },
  {
   "cell_type": "code",
   "execution_count": 7,
   "id": "8992d8a1-4350-4d9f-a9da-43db642d253e",
   "metadata": {},
   "outputs": [],
   "source": [
    "with open(\"data/congress-legislators/legislators-current.yaml\",\"r\") as f:\n",
    "    raw = yaml.safe_load(f)\n",
    "\n"
   ]
  },
  {
   "cell_type": "code",
   "execution_count": 15,
   "id": "7bc0522e-2495-4785-9173-d37ccac72482",
   "metadata": {},
   "outputs": [
    {
     "data": {
      "text/plain": [
       "[1]"
      ]
     },
     "execution_count": 15,
     "metadata": {},
     "output_type": "execute_result"
    }
   ],
   "source": [
    "[*filter(lambda x: x ==1, [1,2,3,4])]"
   ]
  },
  {
   "cell_type": "code",
   "execution_count": 16,
   "id": "ed0485ec-c4cf-4738-89f4-b9432eebf5ef",
   "metadata": {},
   "outputs": [
    {
     "data": {
      "text/plain": [
       "dict_keys(['id', 'name', 'bio', 'terms'])"
      ]
     },
     "execution_count": 16,
     "metadata": {},
     "output_type": "execute_result"
    }
   ],
   "source": [
    "raw[0].keys()"
   ]
  },
  {
   "cell_type": "code",
   "execution_count": 41,
   "id": "5f6d85f5-5e16-4462-abdf-e6f52c65a23f",
   "metadata": {},
   "outputs": [],
   "source": [
    "reps = []\n",
    "terms = []\n",
    "for rep in raw:\n",
    "    temp = {}\n",
    "    temp['first']           = rep['name']['first']\n",
    "    temp['last']            = rep['name']['last']\n",
    "    temp['official_full']   = rep['name'].get('official_full', None)\n",
    "    temp['birthday']        = rep['bio']['birthday']\n",
    "    temp['gender']          = rep['bio']['gender']\n",
    "\n",
    "    for k,v in rep['id'].items():\n",
    "        temp[k]=v\n",
    "    reps.append(deepcopy(temp))\n",
    "    for t in rep['terms']:\n",
    "        t['official_full'] = rep['name'].get('official_full', None)\n",
    "        t['bioguide'] = rep['id']['bioguide']\n",
    "        terms.append(deepcopy(t))\n"
   ]
  },
  {
   "cell_type": "code",
   "execution_count": 61,
   "id": "20de69ae-3970-4f59-bca8-b76ab946839e",
   "metadata": {},
   "outputs": [],
   "source": [
    "for file in Path(\"data\").glob(\"**/*.json\"):\n",
    "    with open(file) as f:\n",
    "        data = json.load(f)\n",
    "    try:\n",
    "        try:\n",
    "            data['bill_number'] = data['bill']['number']\n",
    "            data['bill_type'] = data['bill']['type']\n",
    "        except: \n",
    "            data['bill_number'] = None\n",
    "            data['bill_type'] = None\n",
    "    except:\n",
    "        break\n",
    "    try:\n",
    "        data['amendment_author'] = data['amendment']['author']\n",
    "        data['amendment_number'] = data['amendment']['number']\n",
    "        data['amendment_type'] = data['amendment']['type']\n",
    "        \n",
    "    except:\n",
    "        data['amendment_author'] = None\n",
    "        data['amendment_number'] = None\n",
    "        data['amendment_type'] = None \n",
    "            "
   ]
  },
  {
   "cell_type": "code",
   "execution_count": 59,
   "id": "eb041d2c-1a89-4822-8ab1-dca7eb497b4a",
   "metadata": {},
   "outputs": [],
   "source": [
    "data['votes'] = None"
   ]
  },
  {
   "cell_type": "code",
   "execution_count": 64,
   "id": "5827f3da-3d4c-4034-a0c1-214f40e0b002",
   "metadata": {},
   "outputs": [
    {
     "data": {
      "text/plain": [
       "dict_keys(['congress', 'date', 'sessions'])"
      ]
     },
     "execution_count": 64,
     "metadata": {},
     "output_type": "execute_result"
    }
   ],
   "source": [
    "data[0].keys()"
   ]
  },
  {
   "cell_type": "code",
   "execution_count": 65,
   "id": "fa52570a-01fe-4261-9229-25da69a0d946",
   "metadata": {},
   "outputs": [
    {
     "data": {
      "text/plain": [
       "PosixPath('data/congress-legislators/misc/biographical-directory-footnotes.json')"
      ]
     },
     "execution_count": 65,
     "metadata": {},
     "output_type": "execute_result"
    }
   ],
   "source": [
    "file"
   ]
  },
  {
   "cell_type": "code",
   "execution_count": null,
   "id": "95ccd396-aa24-4aa6-9023-c2a3a5368fb0",
   "metadata": {},
   "outputs": [],
   "source": []
  }
 ],
 "metadata": {
  "kernelspec": {
   "display_name": "Python 3 (ipykernel)",
   "language": "python",
   "name": "python3"
  },
  "language_info": {
   "codemirror_mode": {
    "name": "ipython",
    "version": 3
   },
   "file_extension": ".py",
   "mimetype": "text/x-python",
   "name": "python",
   "nbconvert_exporter": "python",
   "pygments_lexer": "ipython3",
   "version": "3.12.0"
  }
 },
 "nbformat": 4,
 "nbformat_minor": 5
}
